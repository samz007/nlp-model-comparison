{
 "cells": [
  {
   "cell_type": "markdown",
   "metadata": {},
   "source": [
    "# Sentiment analysis using review comments"
   ]
  },
  {
   "cell_type": "markdown",
   "metadata": {},
   "source": [
    "Let's import some of the required packages"
   ]
  },
  {
   "cell_type": "code",
   "execution_count": 1,
   "metadata": {},
   "outputs": [],
   "source": [
    "import numpy as np \n",
    "import pandas as pd \n",
    "import bz2\n",
    "import gc\n",
    "import re"
   ]
  },
  {
   "cell_type": "markdown",
   "metadata": {},
   "source": [
    "Reading the train and test data from Kaggle."
   ]
  },
  {
   "cell_type": "code",
   "execution_count": 2,
   "metadata": {},
   "outputs": [],
   "source": [
    "train_file_lines = bz2.BZ2File('input_data/amazon_data/train.ft.txt.bz2').readlines()\n",
    "test_file_lines = bz2.BZ2File('input_data/amazon_data/test.ft.txt.bz2').readlines()"
   ]
  },
  {
   "cell_type": "markdown",
   "metadata": {},
   "source": [
    "Convert the data into using utf-8 format."
   ]
  },
  {
   "cell_type": "code",
   "execution_count": 3,
   "metadata": {},
   "outputs": [],
   "source": [
    "train_file_lines = [x.decode('utf-8') for x in train_file_lines]\n",
    "test_file_lines = [x.decode('utf-8') for x in test_file_lines]"
   ]
  },
  {
   "cell_type": "markdown",
   "metadata": {},
   "source": [
    "The data contains labels representing customers' feelings (either positive or negative) about the product. Thus, developing classifier models that can classify given comment as positive or negative can be the best approach for Sentiment Analysis. By observing the data, we can split the data into Sentences and Labels for test and training data."
   ]
  },
  {
   "cell_type": "code",
   "execution_count": 4,
   "metadata": {},
   "outputs": [],
   "source": [
    "def form_lables_and_sentences(file_lines):\n",
    "    labels = [0 if x.split(' ')[0] == '__label__1' else 1 for x in file_lines]\n",
    "    sentences = [x.split(' ', 1)[1][:-1].lower() for x in file_lines]\n",
    "    return labels, sentences\n",
    "    \n",
    "    \n",
    "train_lables, train_sentences = form_lables_and_sentences(train_file_lines)    \n",
    "test_lables, test_sentences = form_lables_and_sentences(test_file_lines)"
   ]
  },
  {
   "cell_type": "markdown",
   "metadata": {},
   "source": [
    "Data pre-processing is essential before developing a model. In Natural Language Processing, we need to clean the sentences to extract useful features from them. To clean the data in text format, we have to remove those symbols, characters, and spacing conventions that convey little or no information. Data cleaning for text comments can be done as follows:"
   ]
  },
  {
   "cell_type": "code",
   "execution_count": 5,
   "metadata": {},
   "outputs": [],
   "source": [
    "NON_ALPHANUM = re.compile(r'[\\W]')\n",
    "NON_ASCII = re.compile(r'[^a-z0-1\\s]')\n",
    "\n",
    "def clean_sentences(sentences):\n",
    "    for i in range(len(sentences)):\n",
    "            if 'www.' in sentences[i] or 'http:' in sentences[i] or 'https:' in sentences[i] or '.com' in sentences[i]:\n",
    "                urls = re.findall(\"https?://(?:[-\\w.]|(?:%[\\da-fA-F]{2}))+\", sentences[i])\n",
    "                for url in urls:\n",
    "                    sentences[i] = sentences[i].replace(url, \"<url>\")\n",
    "            sentences[i] = re.sub('\\d','0',sentences[i])\n",
    "            sentences[i] = re.sub('\\t','',sentences[i])\n",
    "            sentences[i] = re.sub('\\n','',sentences[i])\n",
    "            sentences[i] = NON_ALPHANUM.sub(r' ', sentences[i])\n",
    "            sentences[i] = NON_ASCII.sub(r'', sentences[i])\n",
    "            sentences[i] = sentences[i].strip()\n",
    "    return sentences\n",
    "        \n",
    "train_sentences = clean_sentences(train_sentences)\n",
    "test_sentences = clean_sentences(test_sentences)"
   ]
  },
  {
   "cell_type": "markdown",
   "metadata": {},
   "source": [
    "NLTK is a python library that comes with numerous capabilities for humans to process the natural text. \n",
    "Getting some of the required packages for classifier design."
   ]
  },
  {
   "cell_type": "code",
   "execution_count": 6,
   "metadata": {
    "scrolled": true
   },
   "outputs": [
    {
     "name": "stderr",
     "output_type": "stream",
     "text": [
      "[nltk_data] Downloading package stopwords to\n",
      "[nltk_data]     /Users/z003c93/nltk_data...\n",
      "[nltk_data]   Package stopwords is already up-to-date!\n"
     ]
    }
   ],
   "source": [
    "import nltk\n",
    "from nltk.corpus import stopwords\n",
    "from nltk.classify import SklearnClassifier\n",
    "from sklearn.svm import LinearSVC\n",
    "\n",
    "from nltk.classify import svm\n",
    "nltk.download('stopwords')\n",
    "\n",
    "from sklearn import model_selection\n",
    "from sklearn.linear_model import LogisticRegression\n",
    "from sklearn.tree import DecisionTreeClassifier\n",
    "from sklearn.ensemble import RandomForestClassifier\n",
    "from sklearn.neighbors import KNeighborsClassifier\n",
    "from sklearn.discriminant_analysis import LinearDiscriminantAnalysis\n",
    "from sklearn.naive_bayes import GaussianNB\n",
    "from sklearn.svm import SVC\n",
    "from sklearn.pipeline import Pipeline\n",
    "\n",
    "\n",
    "from wordcloud import WordCloud,STOPWORDS\n",
    "import matplotlib.pyplot as plt\n",
    "%matplotlib inline\n",
    "\n",
    "from subprocess import check_output"
   ]
  },
  {
   "cell_type": "markdown",
   "metadata": {},
   "source": [
    "Forming a dataframe for training and testing data that will have sentences and corresponding labels."
   ]
  },
  {
   "cell_type": "code",
   "execution_count": 7,
   "metadata": {},
   "outputs": [
    {
     "data": {
      "text/html": [
       "<div>\n",
       "<style scoped>\n",
       "    .dataframe tbody tr th:only-of-type {\n",
       "        vertical-align: middle;\n",
       "    }\n",
       "\n",
       "    .dataframe tbody tr th {\n",
       "        vertical-align: top;\n",
       "    }\n",
       "\n",
       "    .dataframe thead th {\n",
       "        text-align: right;\n",
       "    }\n",
       "</style>\n",
       "<table border=\"1\" class=\"dataframe\">\n",
       "  <thead>\n",
       "    <tr style=\"text-align: right;\">\n",
       "      <th></th>\n",
       "      <th>Sentence</th>\n",
       "      <th>Label</th>\n",
       "    </tr>\n",
       "  </thead>\n",
       "  <tbody>\n",
       "    <tr>\n",
       "      <th>0</th>\n",
       "      <td>stuning even for the non gamer  this sound tra...</td>\n",
       "      <td>1</td>\n",
       "    </tr>\n",
       "    <tr>\n",
       "      <th>1</th>\n",
       "      <td>the best soundtrack ever to anything   i m rea...</td>\n",
       "      <td>1</td>\n",
       "    </tr>\n",
       "    <tr>\n",
       "      <th>2</th>\n",
       "      <td>amazing   this soundtrack is my favorite music...</td>\n",
       "      <td>1</td>\n",
       "    </tr>\n",
       "    <tr>\n",
       "      <th>3</th>\n",
       "      <td>excellent soundtrack  i truly like this soundt...</td>\n",
       "      <td>1</td>\n",
       "    </tr>\n",
       "    <tr>\n",
       "      <th>4</th>\n",
       "      <td>remember  pull your jaw off the floor after he...</td>\n",
       "      <td>1</td>\n",
       "    </tr>\n",
       "  </tbody>\n",
       "</table>\n",
       "</div>"
      ],
      "text/plain": [
       "                                            Sentence  Label\n",
       "0  stuning even for the non gamer  this sound tra...      1\n",
       "1  the best soundtrack ever to anything   i m rea...      1\n",
       "2  amazing   this soundtrack is my favorite music...      1\n",
       "3  excellent soundtrack  i truly like this soundt...      1\n",
       "4  remember  pull your jaw off the floor after he...      1"
      ]
     },
     "execution_count": 7,
     "metadata": {},
     "output_type": "execute_result"
    }
   ],
   "source": [
    "train_data = pd.DataFrame({'Sentence': train_sentences, 'Label': train_lables})\n",
    "test_data = pd.DataFrame({'Sentence': test_sentences, 'Label': test_lables})\n",
    "train_data.head()"
   ]
  },
  {
   "cell_type": "markdown",
   "metadata": {},
   "source": [
    "Removing unnecessary variables to clean some memory."
   ]
  },
  {
   "cell_type": "code",
   "execution_count": 8,
   "metadata": {},
   "outputs": [
    {
     "data": {
      "text/plain": [
       "11"
      ]
     },
     "execution_count": 8,
     "metadata": {},
     "output_type": "execute_result"
    }
   ],
   "source": [
    "del train_file_lines, test_file_lines\n",
    "gc.collect()"
   ]
  },
  {
   "cell_type": "markdown",
   "metadata": {},
   "source": [
    "One of the step while cleaning text data in sentiment analysis can be removing stopwords from sentences as they don't really convey significant information in deciding the label."
   ]
  },
  {
   "cell_type": "code",
   "execution_count": 9,
   "metadata": {},
   "outputs": [],
   "source": [
    "stopwords_set = set(stopwords.words(\"english\"))\n"
   ]
  },
  {
   "cell_type": "code",
   "execution_count": 10,
   "metadata": {},
   "outputs": [
    {
     "name": "stdout",
     "output_type": "stream",
     "text": [
      "{'me', 'more', 'ourselves', 'off', 'them', \"that'll\", 'hers', 'of', \"didn't\", 'needn', 'own', 'our', 'his', 'about', \"isn't\", 'wasn', 'few', \"hadn't\", 'hasn', 'he', 'isn', \"you'll\", 'but', 'both', 'an', 'not', 'at', 'who', 'when', 're', \"shan't\", 'ain', 'their', 'each', \"needn't\", 'too', \"mustn't\", 'through', 'having', 'yours', 'is', 'so', 'shouldn', 'itself', 'themselves', 'ma', 'haven', 'its', 'than', 'into', 'all', 'the', 'theirs', 'those', 'once', 'hadn', 'did', 'if', 'was', 'to', 'should', 'down', 's', 'mustn', 'then', 'just', 'this', 'doing', 'here', \"doesn't\", 'on', \"she's\", 'have', 'no', \"it's\", 'such', 'and', 'above', 'for', 'that', 'can', \"won't\", 'doesn', 't', 'ours', 'these', 'aren', 'yourselves', 'd', 've', \"shouldn't\", \"haven't\", 'very', 'she', 'there', 'in', \"wouldn't\", 'until', 'with', 'couldn', 'while', \"couldn't\", \"mightn't\", 'it', 'before', \"you're\", 'same', 'am', 'nor', \"you'd\", 'they', 'what', 'after', 'over', 'my', 'didn', 'y', 'will', 'because', 'which', 'don', 'himself', 'myself', 'from', 'her', 'why', 'mightn', 'shan', 'wouldn', 'i', 'are', 'yourself', 'were', 'below', \"wasn't\", 'how', 'had', 'other', 'does', 'as', 'now', 'only', 'some', 'where', 'again', 'or', 'a', 'most', 'herself', 'further', \"should've\", 'been', 'being', \"aren't\", 'won', 'your', \"hasn't\", 'by', 'under', \"you've\", \"don't\", \"weren't\", 'him', 'we', 'you', 'do', 'out', 'between', 'whom', 'during', 'be', 'weren', 'any', 'has', 'o', 'm', 'll', 'up', 'against'}\n"
     ]
    }
   ],
   "source": [
    "print(stopwords_set)"
   ]
  },
  {
   "cell_type": "markdown",
   "metadata": {},
   "source": [
    "From the large dataset we can select 10k rows to train our model. Normally train to test ratio must be maintained near 0.8"
   ]
  },
  {
   "cell_type": "code",
   "execution_count": 11,
   "metadata": {},
   "outputs": [],
   "source": [
    "labeled_train_featuresets = []\n",
    "all_fine_tuned_words = []\n",
    "\n",
    "def remove_stopwords(train_df):\n",
    "    for index, row in train_df.iterrows():\n",
    "        words_filtered = [e.lower() for e in row.Sentence.split() if len(e) >= 3]\n",
    "        words_without_stopwords = [word for word in words_filtered if not word in stopwords_set]\n",
    "        labeled_train_featuresets.append((words_without_stopwords, row.Label))\n",
    "        all_fine_tuned_words.extend(words_without_stopwords)\n",
    "        \n",
    "remove_stopwords(train_data.head(10000))"
   ]
  },
  {
   "cell_type": "markdown",
   "metadata": {},
   "source": [
    "Checking if the training set has nearly equal proportions of positive and negative sentences."
   ]
  },
  {
   "cell_type": "code",
   "execution_count": 12,
   "metadata": {},
   "outputs": [
    {
     "data": {
      "text/plain": [
       "<matplotlib.axes._subplots.AxesSubplot at 0x194ca8320>"
      ]
     },
     "execution_count": 12,
     "metadata": {},
     "output_type": "execute_result"
    },
    {
     "data": {
      "image/png": "[encoded data removed]",
      "text/plain": [
       "<Figure size 432x288 with 1 Axes>"
      ]
     },
     "metadata": {
      "needs_background": "light"
     },
     "output_type": "display_data"
    }
   ],
   "source": [
    "import matplotlib.pyplot as plt\n",
    "import pandas\n",
    "\n",
    "fig, ax = plt.subplots()\n",
    "train_data.head(10000)['Label'].value_counts().plot(ax=ax, kind='bar')"
   ]
  },
  {
   "cell_type": "markdown",
   "metadata": {},
   "source": [
    "Now we can start building features for our model. To get features from our document we can use Frequency Distribution function provided by ntlk. http://www.nltk.org/api/nltk.html?highlight=freqdist"
   ]
  },
  {
   "cell_type": "code",
   "execution_count": 13,
   "metadata": {},
   "outputs": [],
   "source": [
    "def get_word_features(wordlist):\n",
    "    wordlist = nltk.FreqDist(wordlist)\n",
    "    features = wordlist.keys()\n",
    "    return features\n",
    "\n",
    "words_features = get_word_features(all_fine_tuned_words)"
   ]
  },
  {
   "cell_type": "markdown",
   "metadata": {},
   "source": [
    "We can create a feature function that will be used by our classifier model while training the data."
   ]
  },
  {
   "cell_type": "code",
   "execution_count": 14,
   "metadata": {},
   "outputs": [],
   "source": [
    "def features_func(document):\n",
    "    document_words = set(document)\n",
    "    features = {}\n",
    "    for word in words_features:\n",
    "        features['contains(%s)' % word] = (word in document_words)\n",
    "    return features"
   ]
  },
  {
   "cell_type": "markdown",
   "metadata": {},
   "source": [
    "NTLK library provides apply_features function that will help in generating our training set data based on the feature extraction function that we want."
   ]
  },
  {
   "cell_type": "code",
   "execution_count": 15,
   "metadata": {},
   "outputs": [],
   "source": [
    "training_set = nltk.classify.apply_features(features_func,labeled_train_featuresets)"
   ]
  },
  {
   "cell_type": "markdown",
   "metadata": {},
   "source": [
    "Naive Bayes classifier can be trained using NB_Classifier"
   ]
  },
  {
   "cell_type": "code",
   "execution_count": 16,
   "metadata": {},
   "outputs": [],
   "source": [
    "NB_classifier = nltk.NaiveBayesClassifier.train(training_set)"
   ]
  },
  {
   "cell_type": "markdown",
   "metadata": {},
   "source": [
    "After training the data we can check the most informative features used while training the dataset."
   ]
  },
  {
   "cell_type": "code",
   "execution_count": 17,
   "metadata": {},
   "outputs": [
    {
     "name": "stdout",
     "output_type": "stream",
     "text": [
      "Most Informative Features\n",
      "         contains(waste) = True                0 : 1      =     42.6 : 1.0\n",
      "      contains(pathetic) = True                0 : 1      =     27.3 : 1.0\n",
      " contains(disappointing) = True                0 : 1      =     24.0 : 1.0\n",
      "         contains(awful) = True                0 : 1      =     21.9 : 1.0\n",
      "          contains(junk) = True                0 : 1      =     21.1 : 1.0\n",
      "       contains(medical) = True                1 : 0      =     19.8 : 1.0\n",
      "     contains(defective) = True                0 : 1      =     19.0 : 1.0\n",
      "         contains(worst) = True                0 : 1      =     18.8 : 1.0\n",
      "    contains(misleading) = True                0 : 1      =     18.3 : 1.0\n",
      "contains(disappointment) = True                0 : 1      =     18.0 : 1.0\n",
      "       contains(higgins) = True                0 : 1      =     16.4 : 1.0\n",
      "     contains(pointless) = True                0 : 1      =     16.4 : 1.0\n",
      "    contains(ridiculous) = True                0 : 1      =     16.4 : 1.0\n",
      "        contains(ripped) = True                0 : 1      =     15.7 : 1.0\n",
      "         contains(trite) = True                0 : 1      =     15.7 : 1.0\n"
     ]
    }
   ],
   "source": [
    "NB_classifier.show_most_informative_features(15)"
   ]
  },
  {
   "cell_type": "markdown",
   "metadata": {},
   "source": [
    "In order to fit other classifiers on our training dataset we can use wrapper classifier- SklearnClassifier provided by NLTK library. This classifier helps in mapping sklearn classifier to natural language processing classifiers. Selecting a few classifiers that might perform better than Naive Bayes classifier."
   ]
  },
  {
   "cell_type": "code",
   "execution_count": 18,
   "metadata": {},
   "outputs": [],
   "source": [
    "from sklearn.ensemble import RandomForestClassifier\n",
    "# from sklearn.pipeline import Pipeline\n",
    "# from sklearn.feature_extraction.text import TfidfTransformer\n",
    "# from sklearn.feature_selection import SelectKBest\n",
    "# from scipy.stats import chi2\n",
    "from sklearn.svm import LinearSVC\n",
    "\n",
    "#get models from sklearn\n",
    "models_from_sklearn = [('SVM',LinearSVC()),\n",
    "                       ('LR', LogisticRegression(solver='lbfgs')),  \n",
    "                       ('DT',DecisionTreeClassifier(criterion='entropy')), \n",
    "                       ('RF',RandomForestClassifier(n_estimators=100, criterion='entropy'))]\n",
    "classifiers_for_comparison = []\n",
    "\n",
    "for name,model in models_from_sklearn:\n",
    "    text_classifier = SklearnClassifier(model).train(training_set)\n",
    "    classifiers_for_comparison.append( (name , text_classifier) )\n"
   ]
  },
  {
   "cell_type": "markdown",
   "metadata": {},
   "source": [
    "We can split the test data into five subsets that can be tested independently."
   ]
  },
  {
   "cell_type": "code",
   "execution_count": 19,
   "metadata": {},
   "outputs": [],
   "source": [
    "test_subset_one = test_data[:1000]\n",
    "test_subset_two = test_data[2000:3000]\n",
    "test_subset_three = test_data[4000:5000]\n",
    "test_subset_four = test_data[6000:7000]\n",
    "test_subset_five = test_data[9000:10000]\n",
    "test_sets_group = [test_subset_one,test_subset_two, test_subset_three,test_subset_four ,test_subset_five]"
   ]
  },
  {
   "cell_type": "markdown",
   "metadata": {},
   "source": [
    "Once we have our test sets ready, we can use our models for predictions on test sets. F1-score and Accuracy of these models can be compared to select best model."
   ]
  },
  {
   "cell_type": "code",
   "execution_count": 20,
   "metadata": {},
   "outputs": [],
   "source": [
    "from sklearn.metrics import f1_score, accuracy_score\n",
    "models = []\n",
    "models.append(('NB', NB_classifier))\n",
    "for name, classifier in classifiers_for_comparison:\n",
    "    models.append((name,classifier))\n"
   ]
  },
  {
   "cell_type": "code",
   "execution_count": 21,
   "metadata": {},
   "outputs": [
    {
     "name": "stdout",
     "output_type": "stream",
     "text": [
      "============================================\n",
      "Average F1 score for NB is 0.844 with standard deviation as 0.012 \n",
      "Average Accuracy for NB is 0.840 with standard deviation as 0.017  \n",
      "\n",
      "============================================\n",
      "Average F1 score for SVM is 0.825 with standard deviation as 0.018 \n",
      "Average Accuracy for SVM is 0.820 with standard deviation as 0.023  \n",
      "\n",
      "============================================\n",
      "Average F1 score for LR is 0.847 with standard deviation as 0.016 \n",
      "Average Accuracy for LR is 0.843 with standard deviation as 0.019  \n",
      "\n",
      "============================================\n",
      "Average F1 score for DT is 0.735 with standard deviation as 0.011 \n",
      "Average Accuracy for DT is 0.729 with standard deviation as 0.015  \n",
      "\n",
      "============================================\n",
      "Average F1 score for RF is 0.840 with standard deviation as 0.013 \n",
      "Average Accuracy for RF is 0.834 with standard deviation as 0.018  \n",
      "\n"
     ]
    }
   ],
   "source": [
    "results = []\n",
    "names = []\n",
    "for name, model in models:\n",
    "    accuracy_scores = []\n",
    "    f1_scores = []\n",
    "    accuracy_scores = []\n",
    "    for test_data in test_sets_group:\n",
    "        ground_truth = test_data['Label']\n",
    "        predictions = []\n",
    "        for obj in test_data['Sentence']: \n",
    "            res =  model.classify(features_func(obj.split()))\n",
    "            predictions.append(res)\n",
    "        accuracy = accuracy_score(ground_truth, predictions)\n",
    "        accuracy_scores.append(accuracy)\n",
    "        f1_score_value = f1_score(ground_truth, predictions)\n",
    "        f1_scores.append(f1_score_value)\n",
    "    print(\"============================================\")\n",
    "    print(\"Average F1 score for %s is %0.3f with standard deviation as %0.3f \" %(name, np.mean(f1_scores),np.std(f1_scores)))\n",
    "    print(\"Average Accuracy for %s is %0.3f with standard deviation as %0.3f  \\n\" %(name, np.mean(accuracy_scores),np.std(accuracy_scores)))\n",
    "    results.append(accuracy_scores)\n",
    "    names.append(name)"
   ]
  },
  {
   "cell_type": "markdown",
   "metadata": {},
   "source": [
    "Visualizing the accuracy obtained for different models using Matplotlib."
   ]
  },
  {
   "cell_type": "code",
   "execution_count": 22,
   "metadata": {},
   "outputs": [
    {
     "data": {
      "image/png": "[encoded data removed]",
      "text/plain": [
       "<Figure size 432x288 with 1 Axes>"
      ]
     },
     "metadata": {
      "needs_background": "light"
     },
     "output_type": "display_data"
    }
   ],
   "source": [
    "# boxplot algorithm comparison\n",
    "fig = plt.figure()\n",
    "fig.suptitle('Algorithm Comparison')\n",
    "ax = fig.add_subplot(111)\n",
    "plt.boxplot(results)\n",
    "ax.set_xticklabels(names)\n",
    "plt.show()"
   ]
  },
  {
   "cell_type": "markdown",
   "metadata": {},
   "source": [
    "In conclusion we can say that, Logistic Regression and Naive Bayes classifier give better results than other models with acceptable standard deviation."
   ]
  }
 ],
 "metadata": {
  "kernelspec": {
   "display_name": "Python 3",
   "language": "python",
   "name": "python3"
  },
  "language_info": {
   "codemirror_mode": {
    "name": "ipython",
    "version": 3
   },
   "file_extension": ".py",
   "mimetype": "text/x-python",
   "name": "python",
   "nbconvert_exporter": "python",
   "pygments_lexer": "ipython3",
   "version": "3.6.8"
  }
 },
 "nbformat": 4,
 "nbformat_minor": 2
}
